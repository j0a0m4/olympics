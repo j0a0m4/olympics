{
 "cells": [
  {
   "cell_type": "markdown",
   "metadata": {
    "application/vnd.databricks.v1+cell": {
     "cellMetadata": {
      "byteLimit": 2048000,
      "rowLimit": 10000
     },
     "inputWidgets": {},
     "nuid": "2809beaf-b9a3-4f50-a40f-0b9ed1d9b06e",
     "showTitle": false,
     "title": ""
    }
   },
   "source": [
    "# Olympics & Country GDP Bronze Layer"
   ]
  },
  {
   "cell_type": "markdown",
   "metadata": {
    "application/vnd.databricks.v1+cell": {
     "cellMetadata": {},
     "inputWidgets": {},
     "nuid": "d818caf6-35af-4770-a0c8-62d124d015b4",
     "showTitle": false,
     "title": ""
    }
   },
   "source": [
    "## Sources\n",
    "We've picked two dataset from kaggle: the olympic data and the world-gdp dataset\n",
    "\n",
    "### Olympic Data\n",
    "  [Source: olympic-data](https://www.kaggle.com/datasets/bhanupratapbiswas/olympic-data)\n",
    "\n",
    "### GDP\n",
    "  [Source: country-regional-and-world-gdp](https://www.kaggle.com/datasets/bhanupratapbiswas/olympic-data)"
   ]
  },
  {
   "cell_type": "markdown",
   "metadata": {
    "application/vnd.databricks.v1+cell": {
     "cellMetadata": {},
     "inputWidgets": {},
     "nuid": "4e24e716-e659-4b39-990c-ed16e8ef78a4",
     "showTitle": false,
     "title": ""
    }
   },
   "source": [
    "## Olympic\n",
    "\n",
    "The Olympic Games are an international multi-sport event held every four years in which thousands of athletes from around the world participate in various sports competitions. The Olympics are one of the most significant and prestigious sporting events globally, promoting unity, friendship, and fair play among nations.\n",
    "\n",
    "### Olympic Medals\n",
    "Gold, silver, and bronze medals are awarded to the top three athletes or teams in each event."
   ]
  },
  {
   "cell_type": "code",
   "metadata": {
    "ExecuteTime": {
     "end_time": "2024-07-29T19:56:21.961840Z",
     "start_time": "2024-07-29T19:56:13.474338Z"
    }
   },
   "source": [
    "# Initialize spark by loading utils package\n",
    "from utils import spark, save_parquet, load_parquet, path"
   ],
   "outputs": [
    {
     "name": "stderr",
     "output_type": "stream",
     "text": [
      "Setting default log level to \"WARN\".\n",
      "To adjust logging level use sc.setLogLevel(newLevel). For SparkR, use setLogLevel(newLevel).\n",
      "24/07/29 16:56:20 WARN NativeCodeLoader: Unable to load native-hadoop library for your platform... using builtin-java classes where applicable\n"
     ]
    }
   ],
   "execution_count": 1
  },
  {
   "cell_type": "markdown",
   "metadata": {
    "application/vnd.databricks.v1+cell": {
     "cellMetadata": {},
     "inputWidgets": {},
     "nuid": "263f36f5-efcf-4cff-b04d-7a6cdb2769ab",
     "showTitle": false,
     "title": ""
    }
   },
   "source": "### Read csv files from storage"
  },
  {
   "cell_type": "code",
   "metadata": {
    "application/vnd.databricks.v1+cell": {
     "cellMetadata": {
      "byteLimit": 2048000,
      "rowLimit": 10000
     },
     "inputWidgets": {},
     "nuid": "70c8f580-eb34-41f1-9977-dc018b5f0c23",
     "showTitle": false,
     "title": ""
    },
    "ExecuteTime": {
     "end_time": "2024-07-29T19:56:23.526946Z",
     "start_time": "2024-07-29T19:56:21.963952Z"
    }
   },
   "source": [
    "from pyspark.sql.types import StructField, StructType, IntegerType, StringType, DoubleType\n",
    "\n",
    "olympics_schema = StructType([\n",
    "    StructField(\"ID\", IntegerType()),\n",
    "    StructField(\"Name\", StringType()),\n",
    "    StructField(\"Sex\", StringType()),\n",
    "    StructField(\"Age\", IntegerType()),\n",
    "    StructField(\"Height\", DoubleType()),\n",
    "    StructField(\"Weight\", DoubleType()),\n",
    "    StructField(\"Team\", StringType()),\n",
    "    StructField(\"NOC\", StringType()),\n",
    "    StructField(\"Games\", StringType()),\n",
    "    StructField(\"Year\", IntegerType()),\n",
    "    StructField(\"Season\", StringType()),\n",
    "    StructField(\"City\", StringType()),\n",
    "    StructField(\"Sport\", StringType()),\n",
    "    StructField(\"Event\", StringType()),\n",
    "    StructField(\"Medal\", StringType())\n",
    "])\n",
    "\n",
    "df_olympics = (\n",
    "    spark.read\n",
    "    .format(\"csv\")\n",
    "    .option(\"Header\", True)\n",
    "    .option(\"inferSchema\", False)\n",
    "    .schema(olympics_schema)\n",
    "    .load(path[\"csv\"] + \"dataset_olympics.csv\")\n",
    ")\n",
    "\n",
    "df_olympics.printSchema()"
   ],
   "outputs": [
    {
     "name": "stdout",
     "output_type": "stream",
     "text": [
      "root\n",
      " |-- ID: integer (nullable = true)\n",
      " |-- Name: string (nullable = true)\n",
      " |-- Sex: string (nullable = true)\n",
      " |-- Age: integer (nullable = true)\n",
      " |-- Height: double (nullable = true)\n",
      " |-- Weight: double (nullable = true)\n",
      " |-- Team: string (nullable = true)\n",
      " |-- NOC: string (nullable = true)\n",
      " |-- Games: string (nullable = true)\n",
      " |-- Year: integer (nullable = true)\n",
      " |-- Season: string (nullable = true)\n",
      " |-- City: string (nullable = true)\n",
      " |-- Sport: string (nullable = true)\n",
      " |-- Event: string (nullable = true)\n",
      " |-- Medal: string (nullable = true)\n",
      "\n"
     ]
    }
   ],
   "execution_count": 2
  },
  {
   "metadata": {
    "ExecuteTime": {
     "end_time": "2024-07-29T19:56:26.139553Z",
     "start_time": "2024-07-29T19:56:23.528191Z"
    }
   },
   "cell_type": "code",
   "source": "df_olympics.show(5)",
   "outputs": [
    {
     "name": "stdout",
     "output_type": "stream",
     "text": [
      "+---+--------------------+---+----+------+------+--------------+---+-----------+----+------+---------+-------------+--------------------+-----+\n",
      "| ID|                Name|Sex| Age|Height|Weight|          Team|NOC|      Games|Year|Season|     City|        Sport|               Event|Medal|\n",
      "+---+--------------------+---+----+------+------+--------------+---+-----------+----+------+---------+-------------+--------------------+-----+\n",
      "|  1|           A Dijiang|  M|NULL| 180.0|  80.0|         China|CHN|1992 Summer|1992|Summer|Barcelona|   Basketball|Basketball Men's ...| NULL|\n",
      "|  2|            A Lamusi|  M|NULL| 170.0|  60.0|         China|CHN|2012 Summer|2012|Summer|   London|         Judo|Judo Men's Extra-...| NULL|\n",
      "|  3| Gunnar Nielsen Aaby|  M|NULL|  NULL|  NULL|       Denmark|DEN|1920 Summer|1920|Summer|Antwerpen|     Football|Football Men's Fo...| NULL|\n",
      "|  4|Edgar Lindenau Aabye|  M|NULL|  NULL|  NULL|Denmark/Sweden|DEN|1900 Summer|1900|Summer|    Paris|   Tug-Of-War|Tug-Of-War Men's ...| Gold|\n",
      "|  5|Christine Jacoba ...|  F|NULL| 185.0|  82.0|   Netherlands|NED|1988 Winter|1988|Winter|  Calgary|Speed Skating|Speed Skating Wom...| NULL|\n",
      "+---+--------------------+---+----+------+------+--------------+---+-----------+----+------+---------+-------------+--------------------+-----+\n",
      "only showing top 5 rows\n",
      "\n"
     ]
    }
   ],
   "execution_count": 3
  },
  {
   "cell_type": "markdown",
   "metadata": {
    "application/vnd.databricks.v1+cell": {
     "cellMetadata": {},
     "inputWidgets": {},
     "nuid": "773abb7e-68cb-460b-a5bf-84005aea5fe3",
     "showTitle": false,
     "title": ""
    }
   },
   "source": [
    "### Write dataframe to parquet"
   ]
  },
  {
   "cell_type": "code",
   "metadata": {
    "application/vnd.databricks.v1+cell": {
     "cellMetadata": {
      "byteLimit": 2048000,
      "rowLimit": 10000
     },
     "inputWidgets": {},
     "nuid": "0c94da19-3a2b-4ea5-a91e-31029ba3e2e8",
     "showTitle": false,
     "title": ""
    },
    "ExecuteTime": {
     "end_time": "2024-07-29T19:56:27.983164Z",
     "start_time": "2024-07-29T19:56:26.141188Z"
    }
   },
   "source": "save_parquet(df_olympics, filename=\"olympics\")",
   "outputs": [
    {
     "name": "stderr",
     "output_type": "stream",
     "text": [
      "                                                                                \r"
     ]
    },
    {
     "data": {
      "text/plain": [
       "'./data/parquet/olympics.parquet'"
      ]
     },
     "execution_count": 4,
     "metadata": {},
     "output_type": "execute_result"
    }
   ],
   "execution_count": 4
  },
  {
   "cell_type": "markdown",
   "metadata": {
    "application/vnd.databricks.v1+cell": {
     "cellMetadata": {},
     "inputWidgets": {},
     "nuid": "17cebf12-4871-455e-95d9-9d3d1efe7304",
     "showTitle": false,
     "title": ""
    }
   },
   "source": [
    "### Read dataframe from parquet"
   ]
  },
  {
   "cell_type": "code",
   "metadata": {
    "application/vnd.databricks.v1+cell": {
     "cellMetadata": {
      "byteLimit": 2048000,
      "rowLimit": 10000
     },
     "inputWidgets": {},
     "nuid": "a61f1215-3297-4406-bd90-cb96715f1ba0",
     "showTitle": false,
     "title": ""
    },
    "ExecuteTime": {
     "end_time": "2024-07-29T19:56:28.333673Z",
     "start_time": "2024-07-29T19:56:27.985763Z"
    }
   },
   "source": "load_parquet(\"olympics\").show(5)",
   "outputs": [
    {
     "name": "stdout",
     "output_type": "stream",
     "text": [
      "+---+--------------------+---+----+------+------+--------------+---+-----------+----+------+---------+-------------+--------------------+-----+\n",
      "| ID|                Name|Sex| Age|Height|Weight|          Team|NOC|      Games|Year|Season|     City|        Sport|               Event|Medal|\n",
      "+---+--------------------+---+----+------+------+--------------+---+-----------+----+------+---------+-------------+--------------------+-----+\n",
      "|  1|           A Dijiang|  M|NULL| 180.0|  80.0|         China|CHN|1992 Summer|1992|Summer|Barcelona|   Basketball|Basketball Men's ...| NULL|\n",
      "|  2|            A Lamusi|  M|NULL| 170.0|  60.0|         China|CHN|2012 Summer|2012|Summer|   London|         Judo|Judo Men's Extra-...| NULL|\n",
      "|  3| Gunnar Nielsen Aaby|  M|NULL|  NULL|  NULL|       Denmark|DEN|1920 Summer|1920|Summer|Antwerpen|     Football|Football Men's Fo...| NULL|\n",
      "|  4|Edgar Lindenau Aabye|  M|NULL|  NULL|  NULL|Denmark/Sweden|DEN|1900 Summer|1900|Summer|    Paris|   Tug-Of-War|Tug-Of-War Men's ...| Gold|\n",
      "|  5|Christine Jacoba ...|  F|NULL| 185.0|  82.0|   Netherlands|NED|1988 Winter|1988|Winter|  Calgary|Speed Skating|Speed Skating Wom...| NULL|\n",
      "+---+--------------------+---+----+------+------+--------------+---+-----------+----+------+---------+-------------+--------------------+-----+\n",
      "only showing top 5 rows\n",
      "\n"
     ]
    }
   ],
   "execution_count": 5
  },
  {
   "cell_type": "markdown",
   "metadata": {
    "application/vnd.databricks.v1+cell": {
     "cellMetadata": {},
     "inputWidgets": {},
     "nuid": "9bd90e41-a1c9-4330-9d44-435f47e3a5f3",
     "showTitle": false,
     "title": ""
    }
   },
   "source": [
    "## GDP"
   ]
  },
  {
   "cell_type": "markdown",
   "metadata": {
    "application/vnd.databricks.v1+cell": {
     "cellMetadata": {},
     "inputWidgets": {},
     "nuid": "9afbf7a2-3d43-4925-be06-50965a973ebd",
     "showTitle": false,
     "title": ""
    }
   },
   "source": [
    "### Read table from catalog\n",
    "We've used the data ingestion feature in databricks to import the csv into a delta table"
   ]
  },
  {
   "cell_type": "code",
   "metadata": {
    "application/vnd.databricks.v1+cell": {
     "cellMetadata": {
      "byteLimit": 2048000,
      "rowLimit": 10000
     },
     "collapsed": true,
     "inputWidgets": {},
     "nuid": "cf99e14e-c2ce-487d-bd27-a08d6e2293d6",
     "showTitle": false,
     "title": ""
    },
    "ExecuteTime": {
     "end_time": "2024-07-29T19:56:28.811559Z",
     "start_time": "2024-07-29T19:56:28.335277Z"
    }
   },
   "source": [
    "df_gdp = spark.read.csv(path[\"csv\"] + '/dataset_gdp.csv', header=True, inferSchema=True)\n",
    "df_gdp.printSchema()"
   ],
   "outputs": [
    {
     "name": "stdout",
     "output_type": "stream",
     "text": [
      "root\n",
      " |-- Country Name: string (nullable = true)\n",
      " |-- Country Code: string (nullable = true)\n",
      " |-- Year: integer (nullable = true)\n",
      " |-- Value: double (nullable = true)\n",
      "\n"
     ]
    }
   ],
   "execution_count": 6
  },
  {
   "cell_type": "markdown",
   "metadata": {
    "application/vnd.databricks.v1+cell": {
     "cellMetadata": {},
     "inputWidgets": {},
     "nuid": "17acf554-8e02-4622-9218-dcbca26815e1",
     "showTitle": false,
     "title": ""
    }
   },
   "source": [
    "### Write dataframe to parquet"
   ]
  },
  {
   "cell_type": "code",
   "metadata": {
    "application/vnd.databricks.v1+cell": {
     "cellMetadata": {
      "byteLimit": 2048000,
      "rowLimit": 10000
     },
     "inputWidgets": {},
     "nuid": "0996d6a3-78bd-45db-84df-b935ea1cd0e6",
     "showTitle": false,
     "title": ""
    },
    "ExecuteTime": {
     "end_time": "2024-07-29T19:56:29.033240Z",
     "start_time": "2024-07-29T19:56:28.812924Z"
    }
   },
   "source": "save_parquet(df_gdp, filename=\"gdp\")",
   "outputs": [
    {
     "data": {
      "text/plain": [
       "'./data/parquet/gdp.parquet'"
      ]
     },
     "execution_count": 7,
     "metadata": {},
     "output_type": "execute_result"
    }
   ],
   "execution_count": 7
  },
  {
   "cell_type": "markdown",
   "metadata": {
    "application/vnd.databricks.v1+cell": {
     "cellMetadata": {},
     "inputWidgets": {},
     "nuid": "da831a4a-9bc1-4ef7-b256-52be79c8fed0",
     "showTitle": false,
     "title": ""
    }
   },
   "source": [
    "### Read dataframe from parquet"
   ]
  },
  {
   "cell_type": "code",
   "metadata": {
    "application/vnd.databricks.v1+cell": {
     "cellMetadata": {
      "byteLimit": 2048000,
      "rowLimit": 10000
     },
     "inputWidgets": {},
     "nuid": "db23ccfb-1967-4d17-9486-44dad6789197",
     "showTitle": false,
     "title": ""
    },
    "ExecuteTime": {
     "end_time": "2024-07-29T19:56:29.236232Z",
     "start_time": "2024-07-29T19:56:29.034608Z"
    }
   },
   "source": "load_parquet(\"gdp\").show(5)",
   "outputs": [
    {
     "name": "stdout",
     "output_type": "stream",
     "text": [
      "+------------+------------+----+-------------------+\n",
      "|Country Name|Country Code|Year|              Value|\n",
      "+------------+------------+----+-------------------+\n",
      "|  Arab World|         ARB|1968|2.57606830410857E10|\n",
      "|  Arab World|         ARB|1969|2.84342036154829E10|\n",
      "|  Arab World|         ARB|1970|3.13854996640672E10|\n",
      "|  Arab World|         ARB|1971|3.64269098883928E10|\n",
      "|  Arab World|         ARB|1972|4.33160566154562E10|\n",
      "+------------+------------+----+-------------------+\n",
      "only showing top 5 rows\n",
      "\n"
     ]
    }
   ],
   "execution_count": 8
  }
 ],
 "metadata": {
  "application/vnd.databricks.v1+notebook": {
   "dashboards": [],
   "environmentMetadata": null,
   "language": "python",
   "notebookMetadata": {
    "pythonIndentUnit": 4
   },
   "notebookName": "Olympics - Bronze",
   "widgets": {}
  },
  "language_info": {
   "name": "python"
  },
  "kernelspec": {
   "name": "python3",
   "language": "python",
   "display_name": "Python 3 (ipykernel)"
  }
 },
 "nbformat": 4,
 "nbformat_minor": 0
}
