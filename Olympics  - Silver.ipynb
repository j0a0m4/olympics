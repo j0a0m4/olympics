{
 "cells": [
  {
   "cell_type": "markdown",
   "metadata": {
    "application/vnd.databricks.v1+cell": {
     "cellMetadata": {
      "byteLimit": 2048000,
      "rowLimit": 10000
     },
     "inputWidgets": {},
     "nuid": "17f3ad9c-de49-459f-af95-27a68507c787",
     "showTitle": false,
     "title": ""
    }
   },
   "source": [
    "# Silver Layer - Olympics and Country GDP\n",
    "The silver layer will provide with a few datasets saved in parquet"
   ]
  },
  {
   "cell_type": "code",
   "metadata": {
    "application/vnd.databricks.v1+cell": {
     "cellMetadata": {
      "byteLimit": 2048000,
      "rowLimit": 10000
     },
     "inputWidgets": {},
     "nuid": "3c47db4f-8f04-4322-a47b-3a1697b17975",
     "showTitle": false,
     "title": ""
    },
    "ExecuteTime": {
     "end_time": "2024-07-30T16:08:41.841183Z",
     "start_time": "2024-07-30T16:08:28.887181Z"
    }
   },
   "source": [
    "from utils import load_dataframes, save_parquet\n",
    "\n",
    "df = load_dataframes(datasets=['olympics', 'gdp'])"
   ],
   "outputs": [
    {
     "name": "stderr",
     "output_type": "stream",
     "text": [
      "Setting default log level to \"WARN\".\n",
      "To adjust logging level use sc.setLogLevel(newLevel). For SparkR, use setLogLevel(newLevel).\n",
      "24/07/30 13:08:37 WARN NativeCodeLoader: Unable to load native-hadoop library for your platform... using builtin-java classes where applicable\n",
      "                                                                                \r"
     ]
    }
   ],
   "execution_count": 1
  },
  {
   "cell_type": "markdown",
   "metadata": {
    "application/vnd.databricks.v1+cell": {
     "cellMetadata": {
      "byteLimit": 2048000,
      "rowLimit": 10000
     },
     "inputWidgets": {},
     "nuid": "b0f9ba87-7d17-40f2-85d6-7801ef076b3a",
     "showTitle": false,
     "title": ""
    },
    "ExecuteTime": {
     "end_time": "2024-07-29T18:32:05.198710Z",
     "start_time": "2024-07-29T18:32:02.460395Z"
    }
   },
   "source": [
    "## Olympics\n",
    "\n",
    "### Olympics Cleaned\n",
    "The `olympics_cleaned.parquet` aggregate filters the data by year so it matches the same range as the gdp data\n",
    "\n",
    "### Medalists\n",
    "The `medalists.parquet` aggregate filters by athletes who won at least one medal\n",
    "\n",
    "### Medal Rank\n",
    "The `medal_rank.parquet` aggregate is a rank of countries by the amount of medals they've won"
   ]
  },
  {
   "metadata": {
    "ExecuteTime": {
     "end_time": "2024-07-30T16:08:41.867699Z",
     "start_time": "2024-07-30T16:08:41.843491Z"
    }
   },
   "cell_type": "code",
   "source": "df[\"olympics\"].printSchema()",
   "outputs": [
    {
     "name": "stdout",
     "output_type": "stream",
     "text": [
      "root\n",
      " |-- ID: integer (nullable = true)\n",
      " |-- Name: string (nullable = true)\n",
      " |-- Sex: string (nullable = true)\n",
      " |-- Age: double (nullable = true)\n",
      " |-- Height: double (nullable = true)\n",
      " |-- Weight: double (nullable = true)\n",
      " |-- Team: string (nullable = true)\n",
      " |-- NOC: string (nullable = true)\n",
      " |-- Games: string (nullable = true)\n",
      " |-- Year: integer (nullable = true)\n",
      " |-- Season: string (nullable = true)\n",
      " |-- City: string (nullable = true)\n",
      " |-- Sport: string (nullable = true)\n",
      " |-- Event: string (nullable = true)\n",
      " |-- Medal: string (nullable = true)\n",
      "\n"
     ]
    }
   ],
   "execution_count": 2
  },
  {
   "cell_type": "code",
   "metadata": {
    "application/vnd.databricks.v1+cell": {
     "cellMetadata": {
      "byteLimit": 2048000,
      "rowLimit": 10000
     },
     "inputWidgets": {},
     "nuid": "8bf94553-0775-479b-be54-58339515473f",
     "showTitle": false,
     "title": ""
    },
    "ExecuteTime": {
     "end_time": "2024-07-30T16:08:44.207070Z",
     "start_time": "2024-07-30T16:08:41.869177Z"
    }
   },
   "source": "df[\"olympics\"].show(5)",
   "outputs": [
    {
     "name": "stderr",
     "output_type": "stream",
     "text": [
      "                                                                                \r"
     ]
    },
    {
     "name": "stdout",
     "output_type": "stream",
     "text": [
      "+---+--------------------+---+----+------+------+--------------+---+-----------+----+------+---------+-------------+--------------------+-----+\n",
      "| ID|                Name|Sex| Age|Height|Weight|          Team|NOC|      Games|Year|Season|     City|        Sport|               Event|Medal|\n",
      "+---+--------------------+---+----+------+------+--------------+---+-----------+----+------+---------+-------------+--------------------+-----+\n",
      "|  1|           A Dijiang|  M|24.0| 180.0|  80.0|         China|CHN|1992 Summer|1992|Summer|Barcelona|   Basketball|Basketball Men's ...| NULL|\n",
      "|  2|            A Lamusi|  M|23.0| 170.0|  60.0|         China|CHN|2012 Summer|2012|Summer|   London|         Judo|Judo Men's Extra-...| NULL|\n",
      "|  3| Gunnar Nielsen Aaby|  M|24.0|  NULL|  NULL|       Denmark|DEN|1920 Summer|1920|Summer|Antwerpen|     Football|Football Men's Fo...| NULL|\n",
      "|  4|Edgar Lindenau Aabye|  M|34.0|  NULL|  NULL|Denmark/Sweden|DEN|1900 Summer|1900|Summer|    Paris|   Tug-Of-War|Tug-Of-War Men's ...| Gold|\n",
      "|  5|Christine Jacoba ...|  F|21.0| 185.0|  82.0|   Netherlands|NED|1988 Winter|1988|Winter|  Calgary|Speed Skating|Speed Skating Wom...| NULL|\n",
      "+---+--------------------+---+----+------+------+--------------+---+-----------+----+------+---------+-------------+--------------------+-----+\n",
      "only showing top 5 rows\n",
      "\n"
     ]
    }
   ],
   "execution_count": 3
  },
  {
   "cell_type": "code",
   "metadata": {
    "application/vnd.databricks.v1+cell": {
     "cellMetadata": {
      "byteLimit": 2048000,
      "rowLimit": 10000
     },
     "inputWidgets": {},
     "nuid": "93517524-8d74-456f-94a8-a8a7e3ba69de",
     "showTitle": false,
     "title": ""
    },
    "ExecuteTime": {
     "end_time": "2024-07-30T16:08:44.910824Z",
     "start_time": "2024-07-30T16:08:44.208882Z"
    }
   },
   "source": [
    "def get_year_range(df):\n",
    "    min_year = df.agg({\"Year\": \"min\"}).collect()[0][0]\n",
    "    max_year = df.agg({\"Year\": \"max\"}).collect()[0][0]\n",
    "    return min_year, max_year\n",
    "\n",
    "get_year_range(df[\"olympics\"])"
   ],
   "outputs": [
    {
     "data": {
      "text/plain": [
       "(1896, 2016)"
      ]
     },
     "execution_count": 4,
     "metadata": {},
     "output_type": "execute_result"
    }
   ],
   "execution_count": 4
  },
  {
   "cell_type": "markdown",
   "metadata": {
    "application/vnd.databricks.v1+cell": {
     "cellMetadata": {
      "byteLimit": 2048000,
      "rowLimit": 10000
     },
     "inputWidgets": {},
     "nuid": "a5cf646e-6ab0-49e5-9507-ca794b2317e3",
     "showTitle": false,
     "title": ""
    },
    "ExecuteTime": {
     "end_time": "2024-07-29T18:32:11.607539Z",
     "start_time": "2024-07-29T18:32:11.317550Z"
    }
   },
   "source": [
    "### Filter data by year range"
   ]
  },
  {
   "cell_type": "code",
   "metadata": {
    "application/vnd.databricks.v1+cell": {
     "cellMetadata": {
      "byteLimit": 2048000,
      "rowLimit": 10000
     },
     "inputWidgets": {},
     "nuid": "388e1e40-ddce-4ee6-b2ec-5848d0112290",
     "showTitle": false,
     "title": ""
    },
    "ExecuteTime": {
     "end_time": "2024-07-30T16:18:19.858938Z",
     "start_time": "2024-07-30T16:18:19.769737Z"
    }
   },
   "source": [
    "year_range = 1960, 2016\n",
    "\n",
    "# Filter df to include only records from min_year to max_year\n",
    "def filter_by_year_in(years):\n",
    "    min_year, max_year = years\n",
    "    return lambda df: df.filter(df[\"Year\"].between(min_year, max_year))\n",
    "\n",
    "df_olympics = df[\"olympics\"].transform(filter_by_year_in(year_range))\n",
    "\n",
    "df_olympics.show(10)"
   ],
   "outputs": [
    {
     "name": "stdout",
     "output_type": "stream",
     "text": [
      "+---+--------------------+---+----+------+------+-------------+---+-----------+----+------+-----------+--------------------+--------------------+-----+\n",
      "| ID|                Name|Sex| Age|Height|Weight|         Team|NOC|      Games|Year|Season|       City|               Sport|               Event|Medal|\n",
      "+---+--------------------+---+----+------+------+-------------+---+-----------+----+------+-----------+--------------------+--------------------+-----+\n",
      "|  1|           A Dijiang|  M|24.0| 180.0|  80.0|        China|CHN|1992 Summer|1992|Summer|  Barcelona|          Basketball|Basketball Men's ...| NULL|\n",
      "|  2|            A Lamusi|  M|23.0| 170.0|  60.0|        China|CHN|2012 Summer|2012|Summer|     London|                Judo|Judo Men's Extra-...| NULL|\n",
      "|  5|Christine Jacoba ...|  F|21.0| 185.0|  82.0|  Netherlands|NED|1988 Winter|1988|Winter|    Calgary|       Speed Skating|Speed Skating Wom...| NULL|\n",
      "|  5|Christine Jacoba ...|  F|21.0| 185.0|  82.0|  Netherlands|NED|1988 Winter|1988|Winter|    Calgary|       Speed Skating|Speed Skating Wom...| NULL|\n",
      "|  5|Christine Jacoba ...|  F|25.0| 185.0|  82.0|  Netherlands|NED|1992 Winter|1992|Winter|Albertville|       Speed Skating|Speed Skating Wom...| NULL|\n",
      "|  5|Christine Jacoba ...|  F|25.0| 185.0|  82.0|  Netherlands|NED|1992 Winter|1992|Winter|Albertville|       Speed Skating|Speed Skating Wom...| NULL|\n",
      "|  5|Christine Jacoba ...|  F|27.0| 185.0|  82.0|  Netherlands|NED|1994 Winter|1994|Winter|Lillehammer|       Speed Skating|Speed Skating Wom...| NULL|\n",
      "|  5|Christine Jacoba ...|  F|27.0| 185.0|  82.0|  Netherlands|NED|1994 Winter|1994|Winter|Lillehammer|       Speed Skating|Speed Skating Wom...| NULL|\n",
      "|  6|     Per Knut Aaland|  M|31.0| 188.0|  75.0|United States|USA|1992 Winter|1992|Winter|Albertville|Cross Country Skiing|Cross Country Ski...| NULL|\n",
      "|  6|     Per Knut Aaland|  M|31.0| 188.0|  75.0|United States|USA|1992 Winter|1992|Winter|Albertville|Cross Country Skiing|Cross Country Ski...| NULL|\n",
      "+---+--------------------+---+----+------+------+-------------+---+-----------+----+------+-----------+--------------------+--------------------+-----+\n",
      "only showing top 10 rows\n",
      "\n"
     ]
    }
   ],
   "execution_count": 18
  },
  {
   "metadata": {
    "ExecuteTime": {
     "end_time": "2024-07-30T16:19:16.217484Z",
     "start_time": "2024-07-30T16:19:16.004168Z"
    }
   },
   "cell_type": "code",
   "source": [
    "# Assert df_olympics has the same year range as defined by min_year and max_year\n",
    "def test_year_should_be_in_range(df, expected):\n",
    "    actual = get_year_range(df)\n",
    "    assert actual == expected, f\"Year range should be {expected} but was {actual}\"\n",
    "    print(\"Test Passed!\")\n",
    "\n",
    "test_year_should_be_in_range(df_olympics, year_range)"
   ],
   "outputs": [
    {
     "name": "stdout",
     "output_type": "stream",
     "text": [
      "Test Passed!\n"
     ]
    }
   ],
   "execution_count": 24
  },
  {
   "cell_type": "markdown",
   "metadata": {
    "application/vnd.databricks.v1+cell": {
     "cellMetadata": {
      "byteLimit": 2048000,
      "rowLimit": 10000
     },
     "inputWidgets": {},
     "nuid": "90da5c80-6142-4918-88e7-a122e2ce937a",
     "showTitle": false,
     "title": ""
    }
   },
   "source": [
    "### Filter by medalists"
   ]
  },
  {
   "cell_type": "code",
   "metadata": {
    "application/vnd.databricks.v1+cell": {
     "cellMetadata": {
      "byteLimit": 2048000,
      "rowLimit": 10000
     },
     "inputWidgets": {},
     "nuid": "20afb280-8328-47ef-80f0-d0be01863963",
     "showTitle": false,
     "title": ""
    }
   },
   "source": [
    "# Function to filter DataFrame to include only rows where Medal is not null and order by Medal\n",
    "def filter_medalists(df):\n",
    "    return df.filter(df[\"Medal\"].isNotNull()).orderBy(\"Medal\")\n",
    "\n",
    "def filter_by_age_not_null(df):\n",
    "    return df.filter(df[\"Age\"].isNotNull())\n",
    "\n",
    "def filter_by_summer_editions(df):\n",
    "    return df.filter(df[\"Season\"] == \"Summer\")\n",
    "\n",
    "# Apply the transformation functions to df_olympics DataFrame\n",
    "df_medalists = (\n",
    "    df_olympics.transform(filter_medalists)\n",
    "    .transform(filter_by_age_not_null)\n",
    "    .transform(filter_by_summer_editions)\n",
    ")\n",
    "\n",
    "# Display the resulting DataFrame\n",
    "df_medalists.show(10)"
   ],
   "outputs": [],
   "execution_count": null
  },
  {
   "metadata": {},
   "cell_type": "code",
   "outputs": [],
   "execution_count": null,
   "source": ""
  },
  {
   "cell_type": "markdown",
   "metadata": {
    "application/vnd.databricks.v1+cell": {
     "cellMetadata": {
      "byteLimit": 2048000,
      "rowLimit": 10000
     },
     "inputWidgets": {},
     "nuid": "b7b98638-bf0a-45a6-9638-1a1d57797b81",
     "showTitle": false,
     "title": ""
    }
   },
   "source": [
    "### Write medalists to parquet"
   ]
  },
  {
   "cell_type": "code",
   "metadata": {
    "application/vnd.databricks.v1+cell": {
     "cellMetadata": {
      "byteLimit": 2048000,
      "rowLimit": 10000
     },
     "inputWidgets": {},
     "nuid": "45172edb-abaa-433e-9b4e-246f48a01f47",
     "showTitle": false,
     "title": ""
    }
   },
   "source": "save_parquet(df_medalists, \"medalists\")",
   "outputs": [],
   "execution_count": null
  },
  {
   "cell_type": "markdown",
   "metadata": {
    "application/vnd.databricks.v1+cell": {
     "cellMetadata": {
      "byteLimit": 2048000,
      "rowLimit": 10000
     },
     "inputWidgets": {},
     "nuid": "4e462de9-615d-49da-b200-087917260dd9",
     "showTitle": false,
     "title": ""
    }
   },
   "source": []
  },
  {
   "cell_type": "markdown",
   "metadata": {
    "application/vnd.databricks.v1+cell": {
     "cellMetadata": {
      "byteLimit": 2048000,
      "rowLimit": 10000
     },
     "inputWidgets": {},
     "nuid": "48c1fbf4-2742-4c36-81cf-90095cb70fe6",
     "showTitle": false,
     "title": ""
    }
   },
   "source": [
    "### Geeting relevant data to answer the question: Is there a correlation between age and getting a medal?"
   ]
  },
  {
   "cell_type": "code",
   "metadata": {
    "application/vnd.databricks.v1+cell": {
     "cellMetadata": {
      "byteLimit": 2048000,
      "rowLimit": 10000
     },
     "inputWidgets": {},
     "nuid": "66ea89ab-e582-4914-8b59-a5b2a64d8c86",
     "showTitle": false,
     "title": ""
    }
   },
   "source": [
    "from pyspark.sql import functions as F\n",
    "from pyspark.sql.window import Window\n",
    "\n",
    "# Group by Age, Sex, and Medal to count the number of people\n",
    "def count_medals_by_age_and_sex(df):\n",
    "    return df.groupBy(\"Age\", \"Sex\", \"Medal\").count()\n",
    "\n",
    "# Pivot the Medal column to create separate columns for Gold, Silver, and Bronze\n",
    "def pivot_medals_count(df):\n",
    "    return df.groupBy(\"Age\", \"Sex\").pivot(\"Medal\").sum(\"count\").fillna(0)\n",
    "\n",
    "# Sum the amount of Gold, Silver, and Bronze medals by Age and Sex\n",
    "def with_total_medals(df):\n",
    "    return df.withColumn(\"Total_Medals\", F.col(\"Gold\") + F.col(\"Silver\") + F.col(\"Bronze\"))\n",
    "\n",
    "# Define a window to rank the counts within each Age and Sex partition\n",
    "aggregation_window_age_sex = Window.partitionBy(\"Sex\").orderBy(F.desc(\"Total_Medals\"))\n",
    "\n",
    "# Add a rank column based on the total count of medals\n",
    "def row_number_over(window):\n",
    "    return lambda d: d.withColumn(\"Rank\", F.row_number().over(window))\n",
    "\n",
    "# Display the resulting DataFrame\n",
    "df_medalists_age_ranked = (\n",
    "    df_medalists.transform(count_medals_by_age_and_sex)\n",
    "    .transform(pivot_medals_count)\n",
    "    .transform(with_total_medals)\n",
    "    .transform(row_number_over(aggregation_window_age_sex))\n",
    "    .select(\"Rank\", \"Sex\", \"Age\", \"Total_Medals\")\n",
    ")\n",
    "\n",
    "df_medalists_age_ranked.show(10)"
   ],
   "outputs": [],
   "execution_count": null
  },
  {
   "cell_type": "code",
   "metadata": {
    "application/vnd.databricks.v1+cell": {
     "cellMetadata": {
      "byteLimit": 2048000,
      "rowLimit": 10000
     },
     "inputWidgets": {},
     "nuid": "253b6a8e-9b1c-4847-87fb-f61615539c57",
     "showTitle": false,
     "title": ""
    }
   },
   "source": "save_parquet(df_medalists_age_ranked, \"medalists_age\")",
   "outputs": [],
   "execution_count": null
  },
  {
   "cell_type": "markdown",
   "metadata": {
    "application/vnd.databricks.v1+cell": {
     "cellMetadata": {
      "byteLimit": 2048000,
      "rowLimit": 10000
     },
     "inputWidgets": {},
     "nuid": "8c9f9322-3d78-47fb-8565-501a240ea562",
     "showTitle": false,
     "title": ""
    }
   },
   "source": [
    "### Medals by Country"
   ]
  },
  {
   "cell_type": "code",
   "metadata": {
    "application/vnd.databricks.v1+cell": {
     "cellMetadata": {
      "byteLimit": 2048000,
      "rowLimit": 10000
     },
     "inputWidgets": {},
     "nuid": "1363833f-2b24-4f2a-969e-b91e3b715732",
     "showTitle": false,
     "title": ""
    }
   },
   "source": [
    "def count_medals_by(selection):\n",
    "    return lambda df: df.groupBy(*selection).count().orderBy(*selection)\n",
    "\n",
    "\n",
    "df_medal_count_by_country = df_medalists.transform(count_medals_by([\"NOC\", \"Medal\"]))\n",
    "\n",
    "df_medal_count_by_country.show(10)"
   ],
   "outputs": [],
   "execution_count": null
  },
  {
   "cell_type": "markdown",
   "metadata": {
    "application/vnd.databricks.v1+cell": {
     "cellMetadata": {
      "byteLimit": 2048000,
      "rowLimit": 10000
     },
     "inputWidgets": {},
     "nuid": "7da7b5b1-4703-42a9-9983-4f50ca816435",
     "showTitle": false,
     "title": ""
    }
   },
   "source": [
    "### Rank by Medal count"
   ]
  },
  {
   "cell_type": "code",
   "metadata": {
    "application/vnd.databricks.v1+cell": {
     "cellMetadata": {
      "byteLimit": 2048000,
      "rowLimit": 10000
     },
     "inputWidgets": {},
     "nuid": "867ae61e-9da2-438e-95ec-686fc0e1c90f",
     "showTitle": false,
     "title": ""
    }
   },
   "source": [
    "from pyspark.sql import functions as F\n",
    "from pyspark.sql.window import Window\n",
    "\n",
    "# Add a Rank column based on the defined window\n",
    "def rank_over(window_spec):\n",
    "    return lambda df: df.withColumn(\"Rank\", F.rank().over(window_spec))\n",
    "\n",
    "# Aggregate counts of Gold, Silver, and Bronze medals by selection\n",
    "def group_medals_by(selection):\n",
    "    return lambda df: df.groupBy(*selection).agg(\n",
    "        F.sum(F.when(F.col(\"Medal\") == \"Gold\", F.col(\"count\")).otherwise(0)).alias(\n",
    "            \"Gold\"\n",
    "        ),\n",
    "        F.sum(F.when(F.col(\"Medal\") == \"Silver\", F.col(\"count\")).otherwise(0)).alias(\n",
    "            \"Silver\"\n",
    "        ),\n",
    "        F.sum(F.when(F.col(\"Medal\") == \"Bronze\", F.col(\"count\")).otherwise(0)).alias(\n",
    "            \"Bronze\"\n",
    "        ),\n",
    "    )"
   ],
   "outputs": [],
   "execution_count": null
  },
  {
   "cell_type": "code",
   "metadata": {
    "application/vnd.databricks.v1+cell": {
     "cellMetadata": {
      "byteLimit": 2048000,
      "rowLimit": 10000
     },
     "inputWidgets": {},
     "nuid": "57bc5f4a-a831-463b-9ab4-4dca206a7361",
     "showTitle": false,
     "title": ""
    }
   },
   "source": [
    "# Create a window specification to rank by Gold, Silver, and Bronze medals\n",
    "window_ordered_by_medal_score = Window.partitionBy().orderBy(\n",
    "    F.desc(\"Gold\"), F.desc(\"Silver\"), F.desc(\"Bronze\")\n",
    ")\n",
    "\n",
    "df_medal_rank = (\n",
    "    df_medal_count_by_country.transform(group_medals_by([\"NOC\"]))\n",
    "    .transform(rank_over(window_ordered_by_medal_score))\n",
    "    .select(\"Rank\", \"NOC\", \"Gold\", \"Silver\", \"Bronze\")\n",
    ")\n",
    "\n",
    "df_medal_rank.show()"
   ],
   "outputs": [],
   "execution_count": null
  },
  {
   "cell_type": "markdown",
   "metadata": {
    "application/vnd.databricks.v1+cell": {
     "cellMetadata": {
      "byteLimit": 2048000,
      "rowLimit": 10000
     },
     "inputWidgets": {},
     "nuid": "bea2bb99-3d9c-4161-ad10-08b5581cf11e",
     "showTitle": false,
     "title": ""
    }
   },
   "source": [
    "### Write medal_rank to parquet"
   ]
  },
  {
   "cell_type": "code",
   "metadata": {
    "application/vnd.databricks.v1+cell": {
     "cellMetadata": {
      "byteLimit": 2048000,
      "rowLimit": 10000
     },
     "inputWidgets": {},
     "nuid": "8cbdff52-7f4b-4013-a3ce-bf9250124d13",
     "showTitle": false,
     "title": ""
    }
   },
   "source": "save_parquet(df_medal_rank, \"medal_rank\")",
   "outputs": [],
   "execution_count": null
  },
  {
   "cell_type": "markdown",
   "metadata": {
    "application/vnd.databricks.v1+cell": {
     "cellMetadata": {
      "byteLimit": 2048000,
      "rowLimit": 10000
     },
     "inputWidgets": {},
     "nuid": "56921f74-8c23-4592-95e0-6b0ce10f79d3",
     "showTitle": false,
     "title": ""
    }
   },
   "source": [
    "### Rank Medals by year"
   ]
  },
  {
   "cell_type": "code",
   "metadata": {
    "application/vnd.databricks.v1+cell": {
     "cellMetadata": {
      "byteLimit": 2048000,
      "rowLimit": 10000
     },
     "inputWidgets": {},
     "nuid": "2a1405df-a797-4fc5-90ea-9bc27945a81a",
     "showTitle": false,
     "title": ""
    }
   },
   "source": [
    "# Create a window specification to partition by Year and\n",
    "# then rank by Gold, Silver, and Bronze medals\n",
    "window_by_year_ordered_by_medal_score = Window.partitionBy(\"Year\").orderBy(\n",
    "    F.desc(\"Gold\"), F.desc(\"Silver\"), F.desc(\"Bronze\")\n",
    ")\n",
    "\n",
    "df_medals_ranked_by_year = (\n",
    "    df_medalists.transform(count_medals_by([\"NOC\", \"Year\", \"Medal\"]))\n",
    "    .transform(group_medals_by([\"NOC\", \"Year\"]))\n",
    "    .transform(rank_over(window_by_year_ordered_by_medal_score))\n",
    "    .orderBy(\"Year\", \"Rank\")\n",
    "    .select(\"Year\", \"Rank\", \"NOC\", \"Gold\", \"Silver\", \"Bronze\")\n",
    ")\n",
    "\n",
    "# Display the resulting DataFrame\n",
    "df_medals_ranked_by_year.show(10)"
   ],
   "outputs": [],
   "execution_count": null
  },
  {
   "cell_type": "markdown",
   "metadata": {
    "application/vnd.databricks.v1+cell": {
     "cellMetadata": {
      "byteLimit": 2048000,
      "rowLimit": 10000
     },
     "inputWidgets": {},
     "nuid": "cfbb2668-e926-44af-82a3-9c3fdf7270a9",
     "showTitle": false,
     "title": ""
    }
   },
   "source": [
    "### Write medals_ranked_by_year to parquet"
   ]
  },
  {
   "cell_type": "code",
   "metadata": {
    "application/vnd.databricks.v1+cell": {
     "cellMetadata": {
      "byteLimit": 2048000,
      "rowLimit": 10000
     },
     "inputWidgets": {},
     "nuid": "f3dbb8f7-27aa-4351-a53b-44bccad6023b",
     "showTitle": false,
     "title": ""
    }
   },
   "source": "save_parquet(df_medals_ranked_by_year, \"medals_ranked_by_year\")",
   "outputs": [],
   "execution_count": null
  },
  {
   "cell_type": "markdown",
   "metadata": {
    "application/vnd.databricks.v1+cell": {
     "cellMetadata": {
      "byteLimit": 2048000,
      "rowLimit": 10000
     },
     "inputWidgets": {},
     "nuid": "28d9c3a2-aef9-41f0-8006-c0c006893848",
     "showTitle": false,
     "title": ""
    }
   },
   "source": [
    "## GDP\n",
    "\n",
    "### GDP Ranked\n",
    "Produces the `gdp_ranked.parquet` aggregate.  \n",
    "There are some country codes in the gdp dataset that doesn't correspond to country codes in the olympics dataset. \n",
    "We've filtered the gdp dataset to only show the country codes that are in the olympic dataset.\n",
    "Then, we've partitioned it by country and ranked them by gdp value.\n",
    "\n",
    "### GDP average by Country\n",
    "Produces the `gdp_avg_by_country.parquet` aggregate.  \n",
    "It ranks the country according to their GDP average"
   ]
  },
  {
   "cell_type": "markdown",
   "metadata": {
    "application/vnd.databricks.v1+cell": {
     "cellMetadata": {
      "byteLimit": 2048000,
      "rowLimit": 10000
     },
     "inputWidgets": {},
     "nuid": "af36e2e9-b82b-4195-aaad-088cf784b20e",
     "showTitle": false,
     "title": ""
    }
   },
   "source": [
    "### Read from bronze layer"
   ]
  },
  {
   "cell_type": "code",
   "metadata": {
    "application/vnd.databricks.v1+cell": {
     "cellMetadata": {
      "byteLimit": 2048000,
      "rowLimit": 10000
     },
     "inputWidgets": {},
     "nuid": "58370999-b434-4879-a3b4-adc0fc6b3cf1",
     "showTitle": false,
     "title": ""
    }
   },
   "source": [
    "df_gdp = df[\"gdp\"]\n",
    "df_gdp.show(10)"
   ],
   "outputs": [],
   "execution_count": null
  },
  {
   "cell_type": "code",
   "metadata": {
    "application/vnd.databricks.v1+cell": {
     "cellMetadata": {
      "byteLimit": 2048000,
      "rowLimit": 10000
     },
     "inputWidgets": {},
     "nuid": "2ce8bdd4-371b-4ac4-9ccf-4202c123722c",
     "showTitle": false,
     "title": ""
    }
   },
   "source": [
    "# Assert df_gdp has the same year range as defined by min_year and max_year\n",
    "assert get_year_range(df_gdp) == (min_year, max_year)"
   ],
   "outputs": [],
   "execution_count": null
  },
  {
   "cell_type": "markdown",
   "metadata": {
    "application/vnd.databricks.v1+cell": {
     "cellMetadata": {
      "byteLimit": 2048000,
      "rowLimit": 10000
     },
     "inputWidgets": {},
     "nuid": "e8a71223-2ec8-458c-a8fe-5ba18bb6e76d",
     "showTitle": false,
     "title": ""
    }
   },
   "source": [
    "### Rank value and filter country codes "
   ]
  },
  {
   "cell_type": "code",
   "metadata": {
    "application/vnd.databricks.v1+cell": {
     "cellMetadata": {
      "byteLimit": 2048000,
      "rowLimit": 10000
     },
     "inputWidgets": {},
     "nuid": "db6f65d4-14f1-420a-8792-86780b77f48f",
     "showTitle": false,
     "title": ""
    }
   },
   "source": [
    "# Extract distinct NOC codes from the Olympics DataFrame and collect them into a list\n",
    "olympics_country_codes_list = (\n",
    "    df_olympics.select(\"NOC\").distinct().rdd.map(lambda row: row[0]).collect()\n",
    ")"
   ],
   "outputs": [],
   "execution_count": null
  },
  {
   "cell_type": "code",
   "metadata": {
    "application/vnd.databricks.v1+cell": {
     "cellMetadata": {
      "byteLimit": 2048000,
      "rowLimit": 10000
     },
     "inputWidgets": {},
     "nuid": "0e0ae932-af22-4302-a292-72436405e9cb",
     "showTitle": false,
     "title": ""
    }
   },
   "source": [
    "import pyspark.sql.functions as F\n",
    "from pyspark.sql.window import Window\n",
    "\n",
    "# Filter GDP data to include only countries present in the Olympics dataset\n",
    "def filter_by_olympics_countries(df):\n",
    "    return df.filter(F.col(\"Country Code\").isin(olympics_country_codes_list))\n",
    "\n",
    "# Define a window partitioned by Year and ordered by Value in descending order\n",
    "window_by_year_ordered_by_value = Window.partitionBy(\"Year\").orderBy(F.desc(\"Value\"))\n",
    "\n",
    "df_gdp_ranked = df_gdp.transform(filter_by_olympics_countries).transform(\n",
    "    rank_over(window_by_year_ordered_by_value)\n",
    ")\n",
    "\n",
    "display(df_gdp_ranked)"
   ],
   "outputs": [],
   "execution_count": null
  },
  {
   "cell_type": "markdown",
   "metadata": {
    "application/vnd.databricks.v1+cell": {
     "cellMetadata": {
      "byteLimit": 2048000,
      "rowLimit": 10000
     },
     "inputWidgets": {},
     "nuid": "d8ab004b-bfe7-470a-a78a-81bd11f6d747",
     "showTitle": false,
     "title": ""
    }
   },
   "source": [
    "### Write gdp_ranked to parquet"
   ]
  },
  {
   "cell_type": "code",
   "metadata": {
    "application/vnd.databricks.v1+cell": {
     "cellMetadata": {
      "byteLimit": 2048000,
      "rowLimit": 10000
     },
     "inputWidgets": {},
     "nuid": "a3451a23-4eb2-480d-8c92-33460fe14d79",
     "showTitle": false,
     "title": ""
    }
   },
   "source": "save_parquet(df_gdp_ranked, \"gdp_ranked\")",
   "outputs": [],
   "execution_count": null
  },
  {
   "cell_type": "markdown",
   "metadata": {
    "application/vnd.databricks.v1+cell": {
     "cellMetadata": {
      "byteLimit": 2048000,
      "rowLimit": 10000
     },
     "inputWidgets": {},
     "nuid": "48417f09-7daf-4bc8-b538-d424ae7d2b30",
     "showTitle": false,
     "title": ""
    }
   },
   "source": [
    "### Average value by country and Rank"
   ]
  },
  {
   "cell_type": "code",
   "metadata": {
    "application/vnd.databricks.v1+cell": {
     "cellMetadata": {
      "byteLimit": 2048000,
      "rowLimit": 10000
     },
     "inputWidgets": {},
     "nuid": "4eb74b1c-027f-4f44-bf16-8369ee8d581b",
     "showTitle": false,
     "title": ""
    }
   },
   "source": [
    "from pyspark.sql import functions as F\n",
    "from pyspark.sql.window import Window\n",
    "\n",
    "# Group by Country Name and Country Code, and calculate the average value\n",
    "def avg_value_by_country(df):\n",
    "    return df.groupBy(\"Country Name\", \"Country Code\").agg(\n",
    "        F.avg(\"Value\").alias(\"Average Value\")\n",
    "    )\n",
    "\n",
    "\n",
    "# Format the Average Value to include a dollar sign and commas\n",
    "def format_money(from_col, to_col):\n",
    "    return lambda df: df.withColumn(to_col, F.format_string(\"$%,.2f\", F.col(from_col)))\n",
    "\n",
    "\n",
    "# Define a window ordered by Average Value in descending order\n",
    "windows_ordered_by_avg = Window.orderBy(F.desc(\"Average Value\"))\n",
    "\n",
    "\n",
    "df_gdp_avg_by_country = (\n",
    "    df_gdp.transform(filter_by_olympics_countries)\n",
    "    .transform(avg_value_by_country)\n",
    "    .transform(format_money(from_col=\"Average Value\", to_col=\"Formatted Value\"))\n",
    "    .transform(rank_over(windows_ordered_by_avg))\n",
    ").select(\"Rank\", \"Country Name\", \"Formatted Value\", \"Country Code\", \"Average Value\")\n",
    "\n",
    "df_gdp_avg_by_country.show(10)"
   ],
   "outputs": [],
   "execution_count": null
  },
  {
   "cell_type": "markdown",
   "metadata": {
    "application/vnd.databricks.v1+cell": {
     "cellMetadata": {
      "byteLimit": 2048000,
      "rowLimit": 10000
     },
     "inputWidgets": {},
     "nuid": "d8dae33f-1780-4635-9f65-d85f371aa964",
     "showTitle": false,
     "title": ""
    }
   },
   "source": [
    "### Write gdp_avg_by_country to parquet"
   ]
  },
  {
   "cell_type": "code",
   "metadata": {
    "application/vnd.databricks.v1+cell": {
     "cellMetadata": {
      "byteLimit": 2048000,
      "rowLimit": 10000
     },
     "inputWidgets": {},
     "nuid": "93007aa1-6ed2-4b67-9136-5e65e66fa557",
     "showTitle": false,
     "title": ""
    }
   },
   "source": "save_parquet(df_gdp_avg_by_country, \"gdp_avg_by_country\")",
   "outputs": [],
   "execution_count": null
  },
  {
   "cell_type": "markdown",
   "metadata": {
    "application/vnd.databricks.v1+cell": {
     "cellMetadata": {
      "byteLimit": 2048000,
      "rowLimit": 10000
     },
     "collapsed": true,
     "inputWidgets": {},
     "nuid": "df9fe478-5bce-499c-ad1f-1858974f91af",
     "showTitle": false,
     "title": ""
    }
   },
   "source": []
  }
 ],
 "metadata": {
  "application/vnd.databricks.v1+notebook": {
   "dashboards": [],
   "environmentMetadata": null,
   "language": "python",
   "notebookMetadata": {
    "pythonIndentUnit": 4
   },
   "notebookName": "Olympics  - Silver",
   "widgets": {}
  },
  "kernelspec": {
   "name": "python3",
   "language": "python",
   "display_name": "Python 3 (ipykernel)"
  }
 },
 "nbformat": 4,
 "nbformat_minor": 0
}
